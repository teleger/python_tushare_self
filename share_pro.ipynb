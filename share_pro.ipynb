{
 "cells": [
  {
   "cell_type": "markdown",
   "metadata": {},
   "source": [
    "```\n",
    "导入本次实验需要的软件包，用来完成对本次实验所需数据集的分析、处理、以及可视化操作。\n",
    "\n",
    "import pandas as pd\n",
    "import numpy as np\n",
    "import matplotlib.pyplot as plt\n",
    "import tushare as ts\n",
    "import matplotlib\n",
    "import seaborn as sns\n",
    "from pandas import Series,DataFrame\n",
    "sns.set()\n",
    "\n",
    "plt.rcParams['font.sans-serif'] = ['Arial Unicode MS']\n",
    "```"
   ]
  },
  {
   "cell_type": "code",
   "execution_count": 100,
   "metadata": {},
   "outputs": [],
   "source": [
    "import pandas as pd\n",
    "import numpy as np\n",
    "import matplotlib.pyplot as plt\n",
    "import tushare as ts\n",
    "import matplotlib\n",
    "import seaborn as sns\n",
    "from pandas import Series,DataFrame\n",
    "sns.set()\n",
    "\n",
    "#plt.rcParams['font.sans-serif'] = ['Arial Unicode MS']\n"
   ]
  },
  {
   "cell_type": "markdown",
   "metadata": {},
   "source": [
    "这里注意， tushare版本需大于**1.2.10** \n",
    "\n",
    "**token获取方式**，请注册[tushre账号](https://tushare.pro/)"
   ]
  },
  {
   "cell_type": "code",
   "execution_count": 101,
   "metadata": {},
   "outputs": [],
   "source": [
    "#ts.set_token('')\n",
    "#初始化pro接口\n",
    "pro = ts.pro_api('74dfd55d8a7dcef594d8424f9f331e9bf8c678bb51be0cc67462947f')"
   ]
  },
  {
   "cell_type": "code",
   "execution_count": 102,
   "metadata": {},
   "outputs": [
    {
     "data": {
      "text/html": [
       "<div>\n",
       "<style scoped>\n",
       "    .dataframe tbody tr th:only-of-type {\n",
       "        vertical-align: middle;\n",
       "    }\n",
       "\n",
       "    .dataframe tbody tr th {\n",
       "        vertical-align: top;\n",
       "    }\n",
       "\n",
       "    .dataframe thead th {\n",
       "        text-align: right;\n",
       "    }\n",
       "</style>\n",
       "<table border=\"1\" class=\"dataframe\">\n",
       "  <thead>\n",
       "    <tr style=\"text-align: right;\">\n",
       "      <th></th>\n",
       "      <th>ts_code</th>\n",
       "      <th>symbol</th>\n",
       "      <th>name</th>\n",
       "      <th>area</th>\n",
       "      <th>industry</th>\n",
       "      <th>market</th>\n",
       "      <th>list_date</th>\n",
       "    </tr>\n",
       "  </thead>\n",
       "  <tbody>\n",
       "    <tr>\n",
       "      <th>0</th>\n",
       "      <td>000001.SZ</td>\n",
       "      <td>000001</td>\n",
       "      <td>平安银行</td>\n",
       "      <td>深圳</td>\n",
       "      <td>银行</td>\n",
       "      <td>主板</td>\n",
       "      <td>19910403</td>\n",
       "    </tr>\n",
       "    <tr>\n",
       "      <th>1</th>\n",
       "      <td>000002.SZ</td>\n",
       "      <td>000002</td>\n",
       "      <td>万科A</td>\n",
       "      <td>深圳</td>\n",
       "      <td>全国地产</td>\n",
       "      <td>主板</td>\n",
       "      <td>19910129</td>\n",
       "    </tr>\n",
       "    <tr>\n",
       "      <th>2</th>\n",
       "      <td>000004.SZ</td>\n",
       "      <td>000004</td>\n",
       "      <td>国农科技</td>\n",
       "      <td>深圳</td>\n",
       "      <td>生物制药</td>\n",
       "      <td>主板</td>\n",
       "      <td>19910114</td>\n",
       "    </tr>\n",
       "    <tr>\n",
       "      <th>3</th>\n",
       "      <td>000005.SZ</td>\n",
       "      <td>000005</td>\n",
       "      <td>世纪星源</td>\n",
       "      <td>深圳</td>\n",
       "      <td>环境保护</td>\n",
       "      <td>主板</td>\n",
       "      <td>19901210</td>\n",
       "    </tr>\n",
       "    <tr>\n",
       "      <th>4</th>\n",
       "      <td>000006.SZ</td>\n",
       "      <td>000006</td>\n",
       "      <td>深振业A</td>\n",
       "      <td>深圳</td>\n",
       "      <td>区域地产</td>\n",
       "      <td>主板</td>\n",
       "      <td>19920427</td>\n",
       "    </tr>\n",
       "  </tbody>\n",
       "</table>\n",
       "</div>"
      ],
      "text/plain": [
       "     ts_code  symbol  name area industry market list_date\n",
       "0  000001.SZ  000001  平安银行   深圳       银行     主板  19910403\n",
       "1  000002.SZ  000002   万科A   深圳     全国地产     主板  19910129\n",
       "2  000004.SZ  000004  国农科技   深圳     生物制药     主板  19910114\n",
       "3  000005.SZ  000005  世纪星源   深圳     环境保护     主板  19901210\n",
       "4  000006.SZ  000006  深振业A   深圳     区域地产     主板  19920427"
      ]
     },
     "execution_count": 102,
     "metadata": {},
     "output_type": "execute_result"
    }
   ],
   "source": [
    "#获取股票基础信息数据，包括股票代码、名称、上市日期，行业、概念等\n",
    "head_five = pro.stock_basic()\n",
    "head_five.head(5)#显示前5"
   ]
  },
  {
   "cell_type": "code",
   "execution_count": 103,
   "metadata": {},
   "outputs": [
    {
     "data": {
      "text/html": [
       "<div>\n",
       "<style scoped>\n",
       "    .dataframe tbody tr th:only-of-type {\n",
       "        vertical-align: middle;\n",
       "    }\n",
       "\n",
       "    .dataframe tbody tr th {\n",
       "        vertical-align: top;\n",
       "    }\n",
       "\n",
       "    .dataframe thead th {\n",
       "        text-align: right;\n",
       "    }\n",
       "</style>\n",
       "<table border=\"1\" class=\"dataframe\">\n",
       "  <thead>\n",
       "    <tr style=\"text-align: right;\">\n",
       "      <th></th>\n",
       "      <th>ts_code</th>\n",
       "      <th>symbol</th>\n",
       "      <th>name</th>\n",
       "      <th>area</th>\n",
       "      <th>industry</th>\n",
       "      <th>market</th>\n",
       "      <th>list_date</th>\n",
       "    </tr>\n",
       "  </thead>\n",
       "  <tbody>\n",
       "    <tr>\n",
       "      <th>0</th>\n",
       "      <td>000001.SZ</td>\n",
       "      <td>000001</td>\n",
       "      <td>平安银行</td>\n",
       "      <td>深圳</td>\n",
       "      <td>银行</td>\n",
       "      <td>主板</td>\n",
       "      <td>19910403</td>\n",
       "    </tr>\n",
       "  </tbody>\n",
       "</table>\n",
       "</div>"
      ],
      "text/plain": [
       "     ts_code  symbol  name area industry market list_date\n",
       "0  000001.SZ  000001  平安银行   深圳       银行     主板  19910403"
      ]
     },
     "execution_count": 103,
     "metadata": {},
     "output_type": "execute_result"
    }
   ],
   "source": [
    "#只显示中国平安\n",
    "head_five[head_five['ts_code' ]== '000001.SZ']"
   ]
  },
  {
   "cell_type": "markdown",
   "metadata": {},
   "source": [
    "```\n",
    "获取中国平安、万科、国农科技的5000条历史数据\n",
    "daily_info = pro.daily()\n",
    "#中国平安\n",
    "zgpa_daily_info = pro.daily(ts_code='000001.SZ',end_date='20200714')\n",
    "zgpa_daily_info.index = pd.to_datetime(zgpa_daily_info.index)\n",
    "#万科\n",
    "wanke_daily_info = pro.daily(ts_code='000002.SZ',end_date='20200714')\n",
    "wanke_daily_info.index = pd.to_datetime(wanke_daily_info.index)\n",
    "#国农科技\n",
    "gnkj_daily_info = pro.daily(ts_code='000004.SZ',end_date='20200714')\n",
    "gnkj_daily_info.index = pd.to_datetime(gnkj_daily_info.index)\n",
    "```"
   ]
  },
  {
   "cell_type": "code",
   "execution_count": 120,
   "metadata": {},
   "outputs": [],
   "source": [
    "#日线\n",
    "zgpa_daily_info = pro.daily(ts_code='000001.SZ',start_date='20180701',end_date='20200714')\n",
    "zgpa_daily_info.index = pd.to_datetime(zgpa_daily_info.index)\n",
    "\n",
    "wanke_daily_info = pro.daily(ts_code='000002.SZ',start_date='20180701',end_date='20200714')\n",
    "wanke_daily_info.index = pd.to_datetime(wanke_daily_info.index)\n",
    "\n",
    "gnkj_daily_info = pro.daily(ts_code='000004.SZ',start_date='20180701',end_date='20200714')\n",
    "gnkj_daily_info.index = pd.to_datetime(gnkj_daily_info.index)"
   ]
  },
  {
   "cell_type": "code",
   "execution_count": 121,
   "metadata": {},
   "outputs": [
    {
     "name": "stderr",
     "output_type": "stream",
     "text": [
      "/home/work/anaconda3/lib/python3.7/site-packages/ipykernel_launcher.py:2: SettingWithCopyWarning: \n",
      "A value is trying to be set on a copy of a slice from a DataFrame.\n",
      "Try using .loc[row_indexer,col_indexer] = value instead\n",
      "\n",
      "See the caveats in the documentation: http://pandas.pydata.org/pandas-docs/stable/indexing.html#indexing-view-versus-copy\n",
      "  \n",
      "/home/work/anaconda3/lib/python3.7/site-packages/ipykernel_launcher.py:3: SettingWithCopyWarning: \n",
      "A value is trying to be set on a copy of a slice from a DataFrame.\n",
      "Try using .loc[row_indexer,col_indexer] = value instead\n",
      "\n",
      "See the caveats in the documentation: http://pandas.pydata.org/pandas-docs/stable/indexing.html#indexing-view-versus-copy\n",
      "  This is separate from the ipykernel package so we can avoid doing imports until\n",
      "/home/work/anaconda3/lib/python3.7/site-packages/ipykernel_launcher.py:4: SettingWithCopyWarning: \n",
      "A value is trying to be set on a copy of a slice from a DataFrame.\n",
      "Try using .loc[row_indexer,col_indexer] = value instead\n",
      "\n",
      "See the caveats in the documentation: http://pandas.pydata.org/pandas-docs/stable/indexing.html#indexing-view-versus-copy\n",
      "  after removing the cwd from sys.path.\n"
     ]
    }
   ],
   "source": [
    "closing_df=zgpa_daily_info[['open','close']]\n",
    "closing_df['zgpa_df']=zgpa_daily_info['close']\n",
    "closing_df['wanke_df']=wanke_daily_info['close']\n",
    "closing_df['gnkj_df']=gnkj_daily_info['close']\n",
    "del closing_df['open']\n",
    "del closing_df['close']\n",
    "\n",
    "tech_rets=closing_df.pct_change()"
   ]
  },
  {
   "cell_type": "code",
   "execution_count": 122,
   "metadata": {},
   "outputs": [
    {
     "data": {
      "text/plain": [
       "<seaborn.axisgrid.JointGrid at 0x7fd68b7af490>"
      ]
     },
     "execution_count": 122,
     "metadata": {},
     "output_type": "execute_result"
    },
    {
     "data": {
      "image/png": "[encoded data removed]",
      "text/plain": [
       "<Figure size 432x432 with 3 Axes>"
      ]
     },
     "metadata": {},
     "output_type": "display_data"
    }
   ],
   "source": [
    "#请在此处输入代码\n",
    "sns.jointplot('zgpa_df','wanke_df',tech_rets,kind='scatter')"
   ]
  },
  {
   "cell_type": "markdown",
   "metadata": {},
   "source": [
    "```\n",
    "绘制风险相关性图\n",
    "\n",
    "rets=tech_rets.dropna()\n",
    "area=np.pi*20\n",
    "plt.scatter(rets.mean(),rets.std())\n",
    "#分别设定xy的标注\n",
    "plt.xlabel('expected return')\n",
    "plt.ylabel('risk')\n",
    "#画风险相关图\n",
    "for label, x, y in zip(rets.columns, rets.mean(), rets.std()):\n",
    "    plt.annotate(label, xy=(x,y), xytext=(50, 50), textcoords='offset points',\n",
    "                 ha='right', va='bottom',arrowprops=dict(arrowstyle= '-' ,connectionstyle='arc3,rad=-0.3'))\n",
    "```"
   ]
  },
  {
   "cell_type": "code",
   "execution_count": 123,
   "metadata": {},
   "outputs": [
    {
     "data": {
      "image/png": "[encoded data removed]",
      "text/plain": [
       "<Figure size 432x288 with 1 Axes>"
      ]
     },
     "metadata": {},
     "output_type": "display_data"
    }
   ],
   "source": [
    "#请在此处输入代码\n",
    "rets=tech_rets.dropna()\n",
    "area=np.pi*20\n",
    "plt.scatter(rets.mean(),rets.std())\n",
    "#分别设定xy的标注\n",
    "plt.xlabel('expected return')\n",
    "plt.ylabel('risk')\n",
    "#画风险相关图\n",
    "for label, x, y in zip(rets.columns, rets.mean(), rets.std()):\n",
    "    plt.annotate(label, xy=(x,y), xytext=(50, 50), textcoords='offset points',\n",
    "                 ha='right', va='bottom',arrowprops=dict(arrowstyle= '-' ,connectionstyle='arc3,rad=-0.3'))\n"
   ]
  },
  {
   "cell_type": "markdown",
   "metadata": {},
   "source": [
    "```\n",
    "绘制中国平安收盘价折线图\n",
    "\n",
    "plt.plot(zgpa_daily_info['trade_date'],zgpa_daily_info['close'],'-',label=zgpa_daily_info.ts_code[0])\n",
    "```"
   ]
  },
  {
   "cell_type": "code",
   "execution_count": 138,
   "metadata": {},
   "outputs": [
    {
     "data": {
      "image/png": "[encoded data removed]",
      "text/plain": [
       "<Figure size 432x288 with 1 Axes>"
      ]
     },
     "metadata": {},
     "output_type": "display_data"
    }
   ],
   "source": [
    "#转换成datatime类型\n",
    "zgpa_daily_info['trade_date'] = pd.to_datetime(zgpa_daily_info['trade_date'],format=\"%Y%m%d\")\n",
    "\n",
    "plt.plot(zgpa_daily_info['trade_date'],zgpa_daily_info['close'],'-',label=zgpa_daily_info.ts_code[0])\n",
    "#自动调整日期\n",
    "plt.gcf().autofmt_xdate()\n",
    "plt.show()"
   ]
  },
  {
   "cell_type": "code",
   "execution_count": null,
   "metadata": {},
   "outputs": [],
   "source": []
  }
 ],
 "metadata": {
  "kernelspec": {
   "display_name": "Python 3",
   "language": "python",
   "name": "python3"
  },
  "language_info": {
   "codemirror_mode": {
    "name": "ipython",
    "version": 3
   },
   "file_extension": ".py",
   "mimetype": "text/x-python",
   "name": "python",
   "nbconvert_exporter": "python",
   "pygments_lexer": "ipython3",
   "version": "3.7.7"
  }
 },
 "nbformat": 4,
 "nbformat_minor": 2
}
